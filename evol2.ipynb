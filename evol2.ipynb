{
 "cells": [
  {
   "cell_type": "code",
   "execution_count": 26,
   "metadata": {},
   "outputs": [],
   "source": [
    "import torch\n",
    "import torch.nn as nn"
   ]
  },
  {
   "cell_type": "code",
   "execution_count": 27,
   "metadata": {},
   "outputs": [],
   "source": [
    "lin1 = nn.Linear(4, 3, bias=False)\n",
    "lin2 = nn.Linear(4, 3, bias=False)"
   ]
  },
  {
   "cell_type": "code",
   "execution_count": 36,
   "metadata": {},
   "outputs": [
    {
     "name": "stdout",
     "output_type": "stream",
     "text": [
      "tensor([[ 0.4788, -3.9809,  0.9520],\n",
      "        [ 7.2056,  0.8971, -0.4134]])\n",
      "tensor([[ 0.2172, -2.3395, -1.6771],\n",
      "        [ 1.1577, -1.7334,  0.2112]])\n"
     ]
    }
   ],
   "source": [
    "X = torch.randn((3, 2, 4))\n",
    "w = torch.randn((3, 3, 4))\n",
    "lin1.weight.data = w[0]\n",
    "lin2.weight.data = w[1]\n",
    "with torch.no_grad():\n",
    "    y1 = lin1(X[0])\n",
    "    y2 = lin1(X[1])\n",
    "print(y1)\n",
    "print(y2)"
   ]
  },
  {
   "cell_type": "code",
   "execution_count": 37,
   "metadata": {},
   "outputs": [
    {
     "data": {
      "text/plain": [
       "tensor([[[ 0.4788, -3.9809,  0.9520],\n",
       "         [ 7.2056,  0.8971, -0.4134]],\n",
       "\n",
       "        [[ 0.8224,  0.9175, -0.8378],\n",
       "         [ 0.6752,  1.4937, -2.3643]],\n",
       "\n",
       "        [[-1.2362, -1.9377, -1.8750],\n",
       "         [ 2.5180,  1.3706, -1.4332]]])"
      ]
     },
     "execution_count": 37,
     "metadata": {},
     "output_type": "execute_result"
    }
   ],
   "source": [
    "torch.einsum('pnm,pbm -> pbn', (w, X))"
   ]
  },
  {
   "cell_type": "code",
   "execution_count": 38,
   "metadata": {},
   "outputs": [],
   "source": [
    "class PopLinear(nn.Module):\n",
    "    def __init__(self, in_features, out_features, pop_size=100, bias=True, *args, **kwargs):\n",
    "        super(PopLinear, self).__init__(*args, **kwargs)\n",
    "        self.in_features = in_features\n",
    "        self.out_features = out_features\n",
    "        self.pop_size = pop_size\n",
    "        self.weight = nn.Parameter(data=torch.randn((pop_size, out_features, in_features)), requires_grad=False)\n",
    "        if bias:\n",
    "            self.bias = nn.Parameter(data=torch.randn((pop_size, out_features)), requires_grad=False)\n",
    "        else:\n",
    "            self.bias = None\n",
    "            \n",
    "    def vectorize(self):\n",
    "        w = self.weight.data.view(self.pop_size, -1)\n",
    "        if self.bias is not None:\n",
    "            b = self.bias.view(self.pop_size, -1)\n",
    "            w = torch.cat([w, b], dim=1)\n",
    "        return w\n",
    "    \n",
    "    def assign_vector(self, w):\n",
    "        if self.bias is not None:\n",
    "            b_dim = self.bias.shape[1] * -1\n",
    "            slc = w[:, b_dim:]\n",
    "            self.bias.data = w[:, b_dim:]\n",
    "            self.weight.data = w[:, :b_dim].view(self.pop_size, self.out_features, self.in_features)\n",
    "        else:\n",
    "            b_dim = -1\n",
    "            self.weight.data = w.reshape(self.pop_size, self.out_features, self.in_features)\n",
    "        \n",
    "    def forward(self, inp):\n",
    "        X = torch.einsum('pnm,pbm -> pbn', (self.weight.data, inp))\n",
    "        if self.bias is not None:\n",
    "            X += self.bias.data[:, None, :]\n",
    "        return X\n",
    "    \n",
    "lin3 = PopLinear(4, 3, 3, bias=False)\n",
    "lin3.weight.data = w"
   ]
  },
  {
   "cell_type": "code",
   "execution_count": null,
   "metadata": {},
   "outputs": [],
   "source": []
  },
  {
   "cell_type": "code",
   "execution_count": 39,
   "metadata": {},
   "outputs": [],
   "source": [
    "vec = lin3.vectorize()\n",
    "lin3.assign_vector(vec)"
   ]
  },
  {
   "cell_type": "code",
   "execution_count": 40,
   "metadata": {},
   "outputs": [
    {
     "data": {
      "text/plain": [
       "tensor([[[ 0.4788, -3.9809,  0.9520],\n",
       "         [ 7.2056,  0.8971, -0.4134]],\n",
       "\n",
       "        [[ 0.8224,  0.9175, -0.8378],\n",
       "         [ 0.6752,  1.4937, -2.3643]],\n",
       "\n",
       "        [[-1.2362, -1.9377, -1.8750],\n",
       "         [ 2.5180,  1.3706, -1.4332]]])"
      ]
     },
     "execution_count": 40,
     "metadata": {},
     "output_type": "execute_result"
    }
   ],
   "source": [
    "lin3(X)"
   ]
  },
  {
   "cell_type": "code",
   "execution_count": 34,
   "metadata": {},
   "outputs": [],
   "source": [
    "from sklearn.datasets import load_digits\n",
    "from sklearn.model_selection import train_test_split\n",
    "from sklearn.preprocessing import StandardScaler\n",
    "\n",
    "X, y = load_digits(return_X_y=True)\n",
    "Xtr, Xte, ytr, yte = train_test_split(X, y, test_size=.1, random_state=42)\n",
    "\n",
    "Xmean = Xtr.mean()\n",
    "Xstd = Xtr.std()\n",
    "Xtr -= Xmean\n",
    "Xte -= Xmean\n",
    "Xtr /= Xstd\n",
    "Xte /= Xstd"
   ]
  },
  {
   "cell_type": "code",
   "execution_count": 12,
   "metadata": {},
   "outputs": [],
   "source": [
    "class LEEAModel(nn.Module):\n",
    "    def __init__(self, pop_size=100, *args, **kwargs):\n",
    "        super(LEEAModel, self).__init__(*args, **kwargs)\n",
    "        self.pop_size = pop_size\n",
    "        self.inp = PopLinear(in_features=64, out_features=64, pop_size=pop_size)\n",
    "        self.dense1 = PopLinear(in_features=64, out_features=64, pop_size=pop_size)\n",
    "        self.dense2 = PopLinear(in_features=64, out_features=64, pop_size=pop_size)\n",
    "        self.dense3 = PopLinear(in_features=64, out_features=10, pop_size=pop_size)\n",
    "        \n",
    "    def forward(self, inp):\n",
    "        x = inp[None, :, :].expand((self.pop_size, -1, 64))\n",
    "        x = torch.relu(self.inp(x))\n",
    "        x = torch.relu(self.dense1(x))\n",
    "        x = torch.relu(self.dense2(x))\n",
    "        out = self.dense3(x)\n",
    "        return out\n",
    "        \n",
    "        \n",
    "model = LEEAModel()\n",
    "\n",
    "def get_fitnesses(X, y):\n",
    "    out = model(X)\n",
    "    res = torch.argmax(out, dim=2)\n",
    "    fitnesses = (res == y).sum(dim=1)\n",
    "    return fitnesses\n",
    "\n",
    "def batch_generator(X, y, batch_size=128):\n",
    "    X = torch.tensor(X).float()\n",
    "    y = torch.tensor(y)\n",
    "    dim = X.shape[0]\n",
    "    while True:\n",
    "        ind = torch.randint(high=dim, size=(batch_size,))\n",
    "        yield X[ind], y[ind]\n",
    "        \n",
    "gen = batch_generator(Xtr, ytr)\n",
    "X_, y_ = next(gen)\n",
    "fitnesses = get_fitnesses(X_, y_)"
   ]
  },
  {
   "cell_type": "code",
   "execution_count": 46,
   "metadata": {},
   "outputs": [
    {
     "data": {
      "text/plain": [
       "torch.Size([5, 13130])"
      ]
     },
     "execution_count": 46,
     "metadata": {},
     "output_type": "execute_result"
    }
   ],
   "source": [
    "class LEEAOptimizer(object):\n",
    "    def __init__(self, parameters=[None], pop_size=100, sigma=0.001, alpha=1.00, pE=0.05, pC=0.50, pM=0.45, rho=0.5):\n",
    "        self.pop_size=pop_size\n",
    "        self.sigma=sigma\n",
    "        self.alpha=alpha\n",
    "        self.pE=pE\n",
    "        self.pC=pC\n",
    "        self.pM=pM\n",
    "        self.rho=rho\n",
    "        self.p1_fitness = torch.tensor([0 for _ in range(pop_size)])\n",
    "        self.p2_fitness = torch.tensor([0 for _ in range(pop_size)])\n",
    "        self.individuals = self.process_parameters(parameters)\n",
    "        \n",
    "    def process_parameters(self, parameters):\n",
    "        params = []\n",
    "        for prm in parameters:\n",
    "            params.append(prm.data.view(self.pop_size, -1))\n",
    "        return torch.cat(params, dim=1)\n",
    "        \n",
    "    def update(self, fitnesses):\n",
    "        f_prime = (((self.p1_fitness + self.p2_fitness)/2) * (1-self.alpha)) + fitnesses\n",
    "        n_elites = int(self.pop_size * self.pE)\n",
    "        _, elites = torch.topk(f_prime, n_elites)\n",
    "        k = int(self.pop_size * self.rho)\n",
    "        f_primes, selected = torch.topk(f_prime, k)\n",
    "        next_generation = self.produce_generation(selected, f_primes, elites)\n",
    "        return next_generation\n",
    "        \n",
    "    def produce_generation(self, selected, f_primes, elites):\n",
    "        next_generation = [self.individuals[elites]]\n",
    "        n_crossover = int(self.pC * self.pop_size)\n",
    "        next_generation.append()\n",
    "        return next_generation\n",
    "        \n",
    "    \n",
    "optim = LEEAOptimizer(model.parameters())\n",
    "optim.update(fitnesses).shape"
   ]
  },
  {
   "cell_type": "code",
   "execution_count": 21,
   "metadata": {},
   "outputs": [
    {
     "name": "stdout",
     "output_type": "stream",
     "text": [
      "torch.Size([100, 64, 64])\n",
      "torch.Size([100, 64])\n",
      "torch.Size([100, 64, 64])\n",
      "torch.Size([100, 64])\n",
      "torch.Size([100, 64, 64])\n",
      "torch.Size([100, 64])\n",
      "torch.Size([100, 10, 64])\n",
      "torch.Size([100, 10])\n"
     ]
    }
   ],
   "source": [
    "for _ in model.parameters():\n",
    "    print(_.shape)"
   ]
  },
  {
   "cell_type": "code",
   "execution_count": 77,
   "metadata": {},
   "outputs": [
    {
     "data": {
      "text/plain": [
       "tensor([2, 2])"
      ]
     },
     "execution_count": 77,
     "metadata": {},
     "output_type": "execute_result"
    }
   ],
   "source": [
    "inp = torch.tensor([1.0, 1.0, 1.0, 1.0])[None, :]\n",
    "inp.repeat((2, 1))\n",
    "\n",
    "#torch.multinomial(torch.tensor([1.0, 1.0, 1.0, 1.0])[None, :].repeat((2,1)), num_samples=2)\n",
    "torch.multinomial(torch.tensor([1.0, 1.0, 10000.0, 1.0]), num_samples=2, replacement=True)"
   ]
  },
  {
   "cell_type": "code",
   "execution_count": null,
   "metadata": {},
   "outputs": [],
   "source": []
  }
 ],
 "metadata": {
  "kernelspec": {
   "display_name": "Python 3",
   "language": "python",
   "name": "python3"
  },
  "language_info": {
   "codemirror_mode": {
    "name": "ipython",
    "version": 3
   },
   "file_extension": ".py",
   "mimetype": "text/x-python",
   "name": "python",
   "nbconvert_exporter": "python",
   "pygments_lexer": "ipython3",
   "version": "3.6.6"
  }
 },
 "nbformat": 4,
 "nbformat_minor": 2
}
