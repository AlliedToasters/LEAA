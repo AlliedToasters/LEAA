{
 "cells": [
  {
   "cell_type": "code",
   "execution_count": 1,
   "metadata": {},
   "outputs": [],
   "source": [
    "import torch\n",
    "import torch.nn as nn"
   ]
  },
  {
   "cell_type": "code",
   "execution_count": 2,
   "metadata": {},
   "outputs": [],
   "source": [
    "lin1 = nn.Linear(4, 3, bias=False)\n",
    "lin2 = nn.Linear(4, 3, bias=False)"
   ]
  },
  {
   "cell_type": "code",
   "execution_count": 3,
   "metadata": {},
   "outputs": [
    {
     "name": "stdout",
     "output_type": "stream",
     "text": [
      "tensor([[-1.2830,  0.9303, -1.7724],\n",
      "        [-0.4592,  0.0452,  2.1165]])\n",
      "tensor([[ 1.1820, -0.9334,  0.8055],\n",
      "        [ 2.6511, -0.1522,  3.3976]])\n"
     ]
    }
   ],
   "source": [
    "X = torch.randn((2, 2, 4))\n",
    "w = torch.randn((2, 3, 4))\n",
    "lin1.weight.data = w[0]\n",
    "lin2.weight.data = w[1]\n",
    "with torch.no_grad():\n",
    "    y1 = lin1(X[0])\n",
    "    y2 = lin1(X[1])\n",
    "print(y1)\n",
    "print(y2)"
   ]
  },
  {
   "cell_type": "code",
   "execution_count": 4,
   "metadata": {},
   "outputs": [
    {
     "data": {
      "text/plain": [
       "tensor([[[-1.2830,  0.9303, -1.7724],\n",
       "         [-0.4592,  0.0452,  2.1165]],\n",
       "\n",
       "        [[ 0.9075,  1.0648, -1.0378],\n",
       "         [ 1.4950,  2.5057, -2.4989]]])"
      ]
     },
     "execution_count": 4,
     "metadata": {},
     "output_type": "execute_result"
    }
   ],
   "source": [
    "torch.einsum('pnm,pbm -> pbn', (w, X))"
   ]
  },
  {
   "cell_type": "code",
   "execution_count": 6,
   "metadata": {},
   "outputs": [],
   "source": [
    "class PopLinear(nn.Module):\n",
    "    def __init__(self, in_features, out_features, pop_size=100, bias=True, *args, **kwargs):\n",
    "        super(PopLinear, self).__init__(*args, **kwargs)\n",
    "        self.weight = nn.Parameter(data=torch.randn((pop_size, out_features, in_features)), requires_grad=False)\n",
    "        if bias:\n",
    "            self.bias = nn.Parameter(data=torch.randn((pop_size, out_features)), requires_grad=False)\n",
    "        else:\n",
    "            self.bias = None\n",
    "            \n",
    "    def vectorize(self):\n",
    "        pass\n",
    "        \n",
    "    def forward(self, inp):\n",
    "        X = torch.einsum('pnm,pbm -> pbn', (self.weight.data, inp))\n",
    "        if self.bias is not None:\n",
    "            X += self.bias.data\n",
    "        return X\n",
    "    \n",
    "lin3 = PopLinear(4, 3, 2, bias=False)\n",
    "lin3.weight.data = w"
   ]
  },
  {
   "cell_type": "code",
   "execution_count": 7,
   "metadata": {},
   "outputs": [
    {
     "data": {
      "text/plain": [
       "tensor([[[-1.2830,  0.9303, -1.7724],\n",
       "         [-0.4592,  0.0452,  2.1165]],\n",
       "\n",
       "        [[ 0.9075,  1.0648, -1.0378],\n",
       "         [ 1.4950,  2.5057, -2.4989]]])"
      ]
     },
     "execution_count": 7,
     "metadata": {},
     "output_type": "execute_result"
    }
   ],
   "source": [
    "lin3(X)"
   ]
  },
  {
   "cell_type": "code",
   "execution_count": null,
   "metadata": {},
   "outputs": [],
   "source": []
  }
 ],
 "metadata": {
  "kernelspec": {
   "display_name": "Python 3",
   "language": "python",
   "name": "python3"
  },
  "language_info": {
   "codemirror_mode": {
    "name": "ipython",
    "version": 3
   },
   "file_extension": ".py",
   "mimetype": "text/x-python",
   "name": "python",
   "nbconvert_exporter": "python",
   "pygments_lexer": "ipython3",
   "version": "3.6.6"
  }
 },
 "nbformat": 4,
 "nbformat_minor": 2
}
