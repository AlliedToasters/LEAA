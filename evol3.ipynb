{
 "cells": [
  {
   "cell_type": "code",
   "execution_count": 0,
   "metadata": {
    "colab": {
     "base_uri": "https://localhost:8080/",
     "height": 271
    },
    "colab_type": "code",
    "id": "IvTIu-IlO8IZ",
    "outputId": "95907060-7237-4bfd-ea13-ccfe68b9c41b"
   },
   "outputs": [
    {
     "data": {
      "image/png": "[encoded data removed]",
      "text/plain": [
       "<Figure size 432x288 with 1 Axes>"
      ]
     },
     "metadata": {
      "image/png": {
       "height": 254,
       "width": 379
      },
      "tags": []
     },
     "output_type": "display_data"
    }
   ],
   "source": [
    "import torch\n",
    "import torch.nn as nn\n",
    "\n",
    "import numpy as np\n",
    "\n",
    "import matplotlib.pyplot as plt\n",
    "import seaborn as sns\n",
    "sns.set()\n",
    "\n",
    "%config InlineBackend.figure_format = 'retina'\n",
    "\n",
    "plt.plot([0, 1])\n",
    "plt.show()\n",
    "\n",
    "pop_size=1024"
   ]
  },
  {
   "cell_type": "code",
   "execution_count": 0,
   "metadata": {
    "colab": {},
    "colab_type": "code",
    "id": "KL8uEea2O8Id"
   },
   "outputs": [],
   "source": [
    "lin1 = nn.Linear(4, 3, bias=False)\n",
    "lin2 = nn.Linear(4, 3, bias=False)"
   ]
  },
  {
   "cell_type": "code",
   "execution_count": 0,
   "metadata": {
    "colab": {
     "base_uri": "https://localhost:8080/",
     "height": 85
    },
    "colab_type": "code",
    "id": "dwOyToC1O8Ie",
    "outputId": "7f335556-6a54-4084-d92e-3b38692ccfc0"
   },
   "outputs": [
    {
     "name": "stdout",
     "output_type": "stream",
     "text": [
      "tensor([[-1.7426,  0.7265, -0.5889],\n",
      "        [ 1.2801, -1.5444, -1.7934]])\n",
      "tensor([[-0.2730, -0.3672,  0.2971],\n",
      "        [-0.5536,  1.2720,  0.6092]])\n"
     ]
    }
   ],
   "source": [
    "X = torch.randn((3, 2, 4))\n",
    "w = torch.randn((3, 3, 4))\n",
    "lin1.weight.data = w[0]\n",
    "lin2.weight.data = w[1]\n",
    "with torch.no_grad():\n",
    "    y1 = lin1(X[0])\n",
    "    y2 = lin1(X[1])\n",
    "print(y1)\n",
    "print(y2)"
   ]
  },
  {
   "cell_type": "code",
   "execution_count": 0,
   "metadata": {
    "colab": {
     "base_uri": "https://localhost:8080/",
     "height": 153
    },
    "colab_type": "code",
    "id": "Wv4ImIy4O8Ih",
    "outputId": "a7a4635b-7886-4e8b-d3a0-54da67357b13"
   },
   "outputs": [
    {
     "data": {
      "text/plain": [
       "tensor([[[-1.7426,  0.7265, -0.5889],\n",
       "         [ 1.2801, -1.5444, -1.7934]],\n",
       "\n",
       "        [[-2.0967,  1.6622,  0.8480],\n",
       "         [ 2.5429, -1.4744, -1.4262]],\n",
       "\n",
       "        [[-0.1603,  0.5341, -0.0084],\n",
       "         [-0.5517,  2.5033,  1.9845]]])"
      ]
     },
     "execution_count": 4,
     "metadata": {
      "tags": []
     },
     "output_type": "execute_result"
    }
   ],
   "source": [
    "torch.einsum('pnm,pbm -> pbn', (w, X))"
   ]
  },
  {
   "cell_type": "code",
   "execution_count": 0,
   "metadata": {
    "colab": {},
    "colab_type": "code",
    "id": "YeDhnNxcO8Ii"
   },
   "outputs": [],
   "source": [
    "class PopLinear(nn.Module):\n",
    "    def __init__(self, in_features, out_features, pop_size=100, bias=True, *args, **kwargs):\n",
    "        super(PopLinear, self).__init__(*args, **kwargs)\n",
    "        self.in_features = in_features\n",
    "        self.out_features = out_features\n",
    "        self.pop_size = pop_size\n",
    "        self.weight = nn.Parameter(data=torch.randn((pop_size, out_features, in_features)), requires_grad=False)\n",
    "        if bias:\n",
    "            self.bias = nn.Parameter(data=torch.randn((pop_size, out_features)), requires_grad=False)\n",
    "        else:\n",
    "            self.bias = None\n",
    "            \n",
    "    def vectorize(self):\n",
    "        w = self.weight.data.view(self.pop_size, -1)\n",
    "        if self.bias is not None:\n",
    "            b = self.bias.view(self.pop_size, -1)\n",
    "            w = torch.cat([w, b], dim=1)\n",
    "        return w\n",
    "    \n",
    "    def assign_vector(self, w):\n",
    "        if self.bias is not None:\n",
    "            b_dim = self.bias.shape[1] * -1\n",
    "            slc = w[:, b_dim:]\n",
    "            self.bias.data = w[:, b_dim:]\n",
    "            self.weight.data = w[:, :b_dim].view(self.pop_size, self.out_features, self.in_features)\n",
    "        else:\n",
    "            b_dim = -1\n",
    "            self.weight.data = w.reshape(self.pop_size, self.out_features, self.in_features)\n",
    "        \n",
    "    def forward(self, inp):\n",
    "        X = torch.einsum('pnm,pbm -> pbn', (self.weight.data, inp))\n",
    "        if self.bias is not None:\n",
    "            X += self.bias.data[:, None, :]\n",
    "        return X\n",
    "    \n",
    "lin3 = PopLinear(4, 3, 3, bias=False)\n",
    "lin3.weight.data = w"
   ]
  },
  {
   "cell_type": "code",
   "execution_count": 0,
   "metadata": {
    "colab": {},
    "colab_type": "code",
    "id": "NbftYemUO8Ik"
   },
   "outputs": [],
   "source": []
  },
  {
   "cell_type": "code",
   "execution_count": 0,
   "metadata": {
    "colab": {},
    "colab_type": "code",
    "id": "2vIRcOTAO8Il"
   },
   "outputs": [],
   "source": [
    "vec = lin3.vectorize()\n",
    "lin3.assign_vector(vec)"
   ]
  },
  {
   "cell_type": "code",
   "execution_count": 0,
   "metadata": {
    "colab": {
     "base_uri": "https://localhost:8080/",
     "height": 153
    },
    "colab_type": "code",
    "id": "wk8xlyhfO8In",
    "outputId": "de9daa6d-3154-4609-bdfc-f45046a366ac"
   },
   "outputs": [
    {
     "data": {
      "text/plain": [
       "tensor([[[-1.7426,  0.7265, -0.5889],\n",
       "         [ 1.2801, -1.5444, -1.7934]],\n",
       "\n",
       "        [[-2.0967,  1.6622,  0.8480],\n",
       "         [ 2.5429, -1.4744, -1.4262]],\n",
       "\n",
       "        [[-0.1603,  0.5341, -0.0084],\n",
       "         [-0.5517,  2.5033,  1.9845]]])"
      ]
     },
     "execution_count": 7,
     "metadata": {
      "tags": []
     },
     "output_type": "execute_result"
    }
   ],
   "source": [
    "lin3(X)"
   ]
  },
  {
   "cell_type": "code",
   "execution_count": 0,
   "metadata": {
    "colab": {},
    "colab_type": "code",
    "id": "yICFC_rEO8Ip"
   },
   "outputs": [],
   "source": [
    "from sklearn.datasets import load_digits\n",
    "from sklearn.model_selection import train_test_split\n",
    "from sklearn.preprocessing import StandardScaler\n",
    "\n",
    "X, y = load_digits(return_X_y=True)\n",
    "Xtr, Xte, ytr, yte = train_test_split(X, y, test_size=.1, random_state=42)\n",
    "\n",
    "Xmean = Xtr.mean()\n",
    "Xstd = Xtr.std()\n",
    "Xtr -= Xmean\n",
    "Xte -= Xmean\n",
    "Xtr /= Xstd\n",
    "Xte /= Xstd"
   ]
  },
  {
   "cell_type": "code",
   "execution_count": 0,
   "metadata": {
    "colab": {},
    "colab_type": "code",
    "id": "7GY3YVxmO8Iq"
   },
   "outputs": [],
   "source": [
    "class LEEAModel(nn.Module):\n",
    "    def __init__(self, pop_size=100, *args, **kwargs):\n",
    "        super(LEEAModel, self).__init__(*args, **kwargs)\n",
    "        self.pop_size = pop_size\n",
    "        self.layers = []\n",
    "        self.inp = PopLinear(in_features=64, out_features=64, pop_size=pop_size)\n",
    "        self.layers.append(self.inp)\n",
    "        self.dense1 = PopLinear(in_features=64, out_features=64, pop_size=pop_size)\n",
    "        self.layers.append(self.dense1)\n",
    "        self.dense2 = PopLinear(in_features=64, out_features=64, pop_size=pop_size)\n",
    "        self.layers.append(self.dense2)\n",
    "        self.dense3 = PopLinear(in_features=64, out_features=10, pop_size=pop_size)\n",
    "        self.layers.append(self.dense3)\n",
    "        self.layer_sizes = []\n",
    "        \n",
    "    def vectorize(self):\n",
    "        if len(self.layer_sizes) == 0:\n",
    "            get_sizes = True\n",
    "        else:\n",
    "            get_sizes = False\n",
    "        z = []\n",
    "        for layer in self.layers:\n",
    "            z_ = layer.vectorize()\n",
    "            z.append(z_)\n",
    "            if get_sizes:\n",
    "                self.layer_sizes.append(z_.shape[1])\n",
    "        return torch.cat(z, dim=1)\n",
    "    \n",
    "    def assign_vector(self, z):\n",
    "        start_idx = 0\n",
    "        stop_idx = 0\n",
    "        for i, layer in enumerate(self.layers):\n",
    "            stop_idx = start_idx + self.layer_sizes[i]\n",
    "            slc = z[:, start_idx:stop_idx]\n",
    "            start_idx = stop_idx\n",
    "            layer.assign_vector(slc)\n",
    "        \n",
    "    def forward(self, inp):\n",
    "        x = inp[None, :, :].expand((self.pop_size, -1, 64))\n",
    "        x = torch.relu(self.inp(x))\n",
    "        x = torch.relu(self.dense1(x))\n",
    "        x = torch.relu(self.dense2(x))\n",
    "        out = self.dense3(x)\n",
    "        return out\n",
    "        \n",
    "        \n",
    "model = LEEAModel().cuda()\n",
    "\n",
    "def get_fitnesses(X, y):\n",
    "    out = model(X)\n",
    "    res = torch.argmax(out, dim=2)\n",
    "    fitnesses = (res == y).float().mean(dim=1)\n",
    "    return fitnesses\n",
    "\n",
    "def batch_generator(X, y, batch_size=128):\n",
    "    X = torch.tensor(X).float().cuda()\n",
    "    y = torch.tensor(y).cuda()\n",
    "    dim = X.shape[0]\n",
    "    while True:\n",
    "        ind = torch.randint(high=dim, size=(batch_size,))\n",
    "        yield X[ind], y[ind]\n",
    "        \n",
    "gen = batch_generator(Xtr, ytr, batch_size=512)\n",
    "X_, y_ = next(gen)\n",
    "fitnesses = get_fitnesses(X_, y_)"
   ]
  },
  {
   "cell_type": "code",
   "execution_count": 0,
   "metadata": {
    "colab": {},
    "colab_type": "code",
    "id": "tLzRZ-xzO8It"
   },
   "outputs": [],
   "source": [
    "z = model.vectorize()\n",
    "model.assign_vector(z)"
   ]
  },
  {
   "cell_type": "code",
   "execution_count": 0,
   "metadata": {
    "colab": {},
    "colab_type": "code",
    "id": "5XNuGPGdO8Iu"
   },
   "outputs": [],
   "source": [
    "fitnesses2 = get_fitnesses(X_, y_)"
   ]
  },
  {
   "cell_type": "code",
   "execution_count": 0,
   "metadata": {
    "colab": {
     "base_uri": "https://localhost:8080/",
     "height": 119
    },
    "colab_type": "code",
    "id": "iBVX6rQFO8Iw",
    "outputId": "0ea6c01d-a50f-416e-f863-eca8189da5cd"
   },
   "outputs": [
    {
     "data": {
      "text/plain": [
       "LEEAModel(\n",
       "  (inp): PopLinear()\n",
       "  (dense1): PopLinear()\n",
       "  (dense2): PopLinear()\n",
       "  (dense3): PopLinear()\n",
       ")"
      ]
     },
     "execution_count": 17,
     "metadata": {
      "tags": []
     },
     "output_type": "execute_result"
    }
   ],
   "source": [
    "class LEEAOptimizer(object):\n",
    "    def __init__(self, pop_size=100, sigma=0.001, alpha=1.00, pE=0.05, pC=0.50, pM=0.45, rho=0.5, device='cpu'):\n",
    "        self.pop_size=pop_size\n",
    "        self.sigma=sigma\n",
    "        self.alpha=alpha\n",
    "        self.pE=pE\n",
    "        self.pC=pC\n",
    "        self.pM=pM\n",
    "        self.rho=rho\n",
    "        self.device = device\n",
    "        self.p1_fitness = torch.tensor([0.0 for _ in range(pop_size)]).to(device)\n",
    "        self.p2_fitness = torch.tensor([0.0 for _ in range(pop_size)]).to(device)\n",
    "        \n",
    "    def update(self, model, fitnesses):\n",
    "        f_prime = (((self.p1_fitness + self.p2_fitness)/2) * (1-self.alpha)) + fitnesses\n",
    "        z = model.vectorize()\n",
    "        next_generation = self.produce_generation(f_prime, z)\n",
    "        model.assign_vector(next_generation)\n",
    "        return model\n",
    "    \n",
    "    def generate_mutants(self, z, next_generation, p1s, p2s, f_prime, f_primes, selected):\n",
    "        n_mutants = int(self.pop_size * self.pM)\n",
    "        ps = f_primes\n",
    "        indices = torch.multinomial(ps, num_samples=n_mutants, replacement=True)\n",
    "        mutants = selected[indices]\n",
    "        p1s.append(f_prime[mutants])\n",
    "        p2s.append(f_prime[mutants])\n",
    "        mutants = z[mutants]\n",
    "        mutants = mutants + self.sigma * torch.randn(mutants.shape).to(self.device)\n",
    "        next_generation = torch.cat(next_generation+[mutants], dim=0)\n",
    "        return next_generation, p1s, p2s\n",
    "    \n",
    "    def crossover(self, p1, p2):\n",
    "        cond = (torch.rand(p1.shape) < .5).float().to(self.device)\n",
    "        offspring = (cond * p1) + ((1-cond) * p2)\n",
    "        return offspring\n",
    "        \n",
    "    def generate_offspring(self, z, next_generation, p1s, p2s, f_prime, f_primes, selected):\n",
    "        n_offspring = self.pop_size - next_generation.shape[0]\n",
    "        ps = f_primes\n",
    "        p1 = torch.multinomial(ps, num_samples=n_offspring, replacement=True)\n",
    "        p1 = selected[p1]\n",
    "        p2 = torch.multinomial(ps, num_samples=n_offspring, replacement=True)\n",
    "        p2 = selected[p2]\n",
    "        offspring = self.crossover(z[p1], z[p2])\n",
    "        next_generation = torch.cat([next_generation, offspring], dim=0)\n",
    "        p1s.append(f_prime[p1])\n",
    "        p2s.append(f_prime[p2])\n",
    "        return next_generation, p1s, p2s\n",
    "        \n",
    "    def produce_generation(self, f_prime, z):\n",
    "        n_elites = int(self.pop_size * self.pE)\n",
    "        _, elites = torch.topk(f_prime, n_elites)\n",
    "        k_selected = int(self.pop_size * self.rho)\n",
    "        f_primes, selected = torch.topk(f_prime, k_selected)\n",
    "        next_generation = [z[elites]]\n",
    "        p1s = [f_prime[elites]]\n",
    "        p2s = [f_prime[elites]]\n",
    "        next_generation, p1s, p2s = self.generate_mutants(z, next_generation, p1s, p2s, f_prime, f_primes, selected)\n",
    "        next_generation, p1s, p2s = self.generate_offspring(z, next_generation, p1s, p2s, f_prime, f_primes, selected)\n",
    "        self.p1_fitness = torch.cat(p1s)\n",
    "        self.p2_fitness = torch.cat(p2s)\n",
    "        return next_generation\n",
    "        \n",
    "\n",
    "model = LEEAModel(pop_size=pop_size).cuda()\n",
    "optim = LEEAOptimizer(pop_size=pop_size, sigma=0.1, device='cuda:0')\n",
    "\n",
    "gen = batch_generator(Xtr, ytr, batch_size=512)\n",
    "X_, y_ = next(gen)\n",
    "fitnesses = get_fitnesses(X_, y_)\n",
    "optim.update(model, fitnesses)"
   ]
  },
  {
   "cell_type": "code",
   "execution_count": 0,
   "metadata": {
    "colab": {
     "base_uri": "https://localhost:8080/",
     "height": 122
    },
    "colab_type": "code",
    "id": "1IAPFaIvO8Iy",
    "outputId": "a35af54f-c08c-4745-c57c-1dcd0a0b514f"
   },
   "outputs": [
    {
     "name": "stderr",
     "output_type": "stream",
     "text": [
      "/usr/local/lib/python3.6/dist-packages/ipykernel_launcher.py:1: UserWarning: To copy construct from a tensor, it is recommended to use sourceTensor.clone().detach() or sourceTensor.clone().detach().requires_grad_(True), rather than torch.tensor(sourceTensor).\n",
      "  \"\"\"Entry point for launching an IPython kernel.\n",
      "/usr/local/lib/python3.6/dist-packages/ipykernel_launcher.py:2: UserWarning: To copy construct from a tensor, it is recommended to use sourceTensor.clone().detach() or sourceTensor.clone().detach().requires_grad_(True), rather than torch.tensor(sourceTensor).\n",
      "  \n"
     ]
    },
    {
     "data": {
      "text/plain": [
       "tensor(0.2444, device='cuda:0')"
      ]
     },
     "execution_count": 18,
     "metadata": {
      "tags": []
     },
     "output_type": "execute_result"
    }
   ],
   "source": [
    "Xte = torch.tensor(Xte).float().cuda()\n",
    "yte = torch.tensor(yte).cuda()\n",
    "\n",
    "get_fitnesses(Xte, yte).max()"
   ]
  },
  {
   "cell_type": "code",
   "execution_count": 0,
   "metadata": {
    "colab": {
     "base_uri": "https://localhost:8080/",
     "height": 628
    },
    "colab_type": "code",
    "id": "C96LKhnjO8I0",
    "outputId": "10fafa63-a978-4816-80eb-d13355e6e3d1"
   },
   "outputs": [
    {
     "data": {
      "image/png": "[encoded data removed]",
      "text/plain": [
       "<Figure size 432x288 with 1 Axes>"
      ]
     },
     "metadata": {
      "image/png": {
       "height": 254,
       "width": 379
      },
      "tags": []
     },
     "output_type": "display_data"
    },
    {
     "ename": "KeyboardInterrupt",
     "evalue": "ignored",
     "output_type": "error",
     "traceback": [
      "\u001b[0;31m---------------------------------------------------------------------------\u001b[0m",
      "\u001b[0;31mKeyboardInterrupt\u001b[0m                         Traceback (most recent call last)",
      "\u001b[0;32m<ipython-input-19-b19a9e1bc4a8>\u001b[0m in \u001b[0;36m<module>\u001b[0;34m()\u001b[0m\n\u001b[1;32m      7\u001b[0m     \u001b[0mX_\u001b[0m\u001b[0;34m,\u001b[0m \u001b[0my_\u001b[0m \u001b[0;34m=\u001b[0m \u001b[0mnext\u001b[0m\u001b[0;34m(\u001b[0m\u001b[0mgen\u001b[0m\u001b[0;34m)\u001b[0m\u001b[0;34m\u001b[0m\u001b[0;34m\u001b[0m\u001b[0m\n\u001b[1;32m      8\u001b[0m     \u001b[0mfitnesses\u001b[0m \u001b[0;34m=\u001b[0m \u001b[0mget_fitnesses\u001b[0m\u001b[0;34m(\u001b[0m\u001b[0mX_\u001b[0m\u001b[0;34m,\u001b[0m \u001b[0my_\u001b[0m\u001b[0;34m)\u001b[0m\u001b[0;34m\u001b[0m\u001b[0;34m\u001b[0m\u001b[0m\n\u001b[0;32m----> 9\u001b[0;31m     \u001b[0mmodel\u001b[0m \u001b[0;34m=\u001b[0m \u001b[0moptim\u001b[0m\u001b[0;34m.\u001b[0m\u001b[0mupdate\u001b[0m\u001b[0;34m(\u001b[0m\u001b[0mmodel\u001b[0m\u001b[0;34m,\u001b[0m \u001b[0mfitnesses\u001b[0m\u001b[0;34m)\u001b[0m\u001b[0;34m\u001b[0m\u001b[0;34m\u001b[0m\u001b[0m\n\u001b[0m\u001b[1;32m     10\u001b[0m     \u001b[0mhistory\u001b[0m\u001b[0;34m.\u001b[0m\u001b[0mappend\u001b[0m\u001b[0;34m(\u001b[0m\u001b[0mfloat\u001b[0m\u001b[0;34m(\u001b[0m\u001b[0mfitnesses\u001b[0m\u001b[0;34m.\u001b[0m\u001b[0mmax\u001b[0m\u001b[0;34m(\u001b[0m\u001b[0;34m)\u001b[0m\u001b[0;34m)\u001b[0m\u001b[0;34m)\u001b[0m\u001b[0;34m\u001b[0m\u001b[0;34m\u001b[0m\u001b[0m\n\u001b[1;32m     11\u001b[0m     \u001b[0;32mif\u001b[0m \u001b[0mi\u001b[0m \u001b[0;34m%\u001b[0m \u001b[0;36m100\u001b[0m \u001b[0;34m==\u001b[0m \u001b[0;36m0\u001b[0m\u001b[0;34m:\u001b[0m\u001b[0;34m\u001b[0m\u001b[0;34m\u001b[0m\u001b[0m\n",
      "\u001b[0;32m<ipython-input-17-87d92c48ff80>\u001b[0m in \u001b[0;36mupdate\u001b[0;34m(self, model, fitnesses)\u001b[0m\n\u001b[1;32m     15\u001b[0m         \u001b[0mf_prime\u001b[0m \u001b[0;34m=\u001b[0m \u001b[0;34m(\u001b[0m\u001b[0;34m(\u001b[0m\u001b[0;34m(\u001b[0m\u001b[0mself\u001b[0m\u001b[0;34m.\u001b[0m\u001b[0mp1_fitness\u001b[0m \u001b[0;34m+\u001b[0m \u001b[0mself\u001b[0m\u001b[0;34m.\u001b[0m\u001b[0mp2_fitness\u001b[0m\u001b[0;34m)\u001b[0m\u001b[0;34m/\u001b[0m\u001b[0;36m2\u001b[0m\u001b[0;34m)\u001b[0m \u001b[0;34m*\u001b[0m \u001b[0;34m(\u001b[0m\u001b[0;36m1\u001b[0m\u001b[0;34m-\u001b[0m\u001b[0mself\u001b[0m\u001b[0;34m.\u001b[0m\u001b[0malpha\u001b[0m\u001b[0;34m)\u001b[0m\u001b[0;34m)\u001b[0m \u001b[0;34m+\u001b[0m \u001b[0mfitnesses\u001b[0m\u001b[0;34m\u001b[0m\u001b[0;34m\u001b[0m\u001b[0m\n\u001b[1;32m     16\u001b[0m         \u001b[0mz\u001b[0m \u001b[0;34m=\u001b[0m \u001b[0mmodel\u001b[0m\u001b[0;34m.\u001b[0m\u001b[0mvectorize\u001b[0m\u001b[0;34m(\u001b[0m\u001b[0;34m)\u001b[0m\u001b[0;34m\u001b[0m\u001b[0;34m\u001b[0m\u001b[0m\n\u001b[0;32m---> 17\u001b[0;31m         \u001b[0mnext_generation\u001b[0m \u001b[0;34m=\u001b[0m \u001b[0mself\u001b[0m\u001b[0;34m.\u001b[0m\u001b[0mproduce_generation\u001b[0m\u001b[0;34m(\u001b[0m\u001b[0mf_prime\u001b[0m\u001b[0;34m,\u001b[0m \u001b[0mz\u001b[0m\u001b[0;34m)\u001b[0m\u001b[0;34m\u001b[0m\u001b[0;34m\u001b[0m\u001b[0m\n\u001b[0m\u001b[1;32m     18\u001b[0m         \u001b[0mmodel\u001b[0m\u001b[0;34m.\u001b[0m\u001b[0massign_vector\u001b[0m\u001b[0;34m(\u001b[0m\u001b[0mnext_generation\u001b[0m\u001b[0;34m)\u001b[0m\u001b[0;34m\u001b[0m\u001b[0;34m\u001b[0m\u001b[0m\n\u001b[1;32m     19\u001b[0m         \u001b[0;32mreturn\u001b[0m \u001b[0mmodel\u001b[0m\u001b[0;34m\u001b[0m\u001b[0;34m\u001b[0m\u001b[0m\n",
      "\u001b[0;32m<ipython-input-17-87d92c48ff80>\u001b[0m in \u001b[0;36mproduce_generation\u001b[0;34m(self, f_prime, z)\u001b[0m\n\u001b[1;32m     57\u001b[0m         \u001b[0mp1s\u001b[0m \u001b[0;34m=\u001b[0m \u001b[0;34m[\u001b[0m\u001b[0mf_prime\u001b[0m\u001b[0;34m[\u001b[0m\u001b[0melites\u001b[0m\u001b[0;34m]\u001b[0m\u001b[0;34m]\u001b[0m\u001b[0;34m\u001b[0m\u001b[0;34m\u001b[0m\u001b[0m\n\u001b[1;32m     58\u001b[0m         \u001b[0mp2s\u001b[0m \u001b[0;34m=\u001b[0m \u001b[0;34m[\u001b[0m\u001b[0mf_prime\u001b[0m\u001b[0;34m[\u001b[0m\u001b[0melites\u001b[0m\u001b[0;34m]\u001b[0m\u001b[0;34m]\u001b[0m\u001b[0;34m\u001b[0m\u001b[0;34m\u001b[0m\u001b[0m\n\u001b[0;32m---> 59\u001b[0;31m         \u001b[0mnext_generation\u001b[0m\u001b[0;34m,\u001b[0m \u001b[0mp1s\u001b[0m\u001b[0;34m,\u001b[0m \u001b[0mp2s\u001b[0m \u001b[0;34m=\u001b[0m \u001b[0mself\u001b[0m\u001b[0;34m.\u001b[0m\u001b[0mgenerate_mutants\u001b[0m\u001b[0;34m(\u001b[0m\u001b[0mz\u001b[0m\u001b[0;34m,\u001b[0m \u001b[0mnext_generation\u001b[0m\u001b[0;34m,\u001b[0m \u001b[0mp1s\u001b[0m\u001b[0;34m,\u001b[0m \u001b[0mp2s\u001b[0m\u001b[0;34m,\u001b[0m \u001b[0mf_prime\u001b[0m\u001b[0;34m,\u001b[0m \u001b[0mf_primes\u001b[0m\u001b[0;34m,\u001b[0m \u001b[0mselected\u001b[0m\u001b[0;34m)\u001b[0m\u001b[0;34m\u001b[0m\u001b[0;34m\u001b[0m\u001b[0m\n\u001b[0m\u001b[1;32m     60\u001b[0m         \u001b[0mnext_generation\u001b[0m\u001b[0;34m,\u001b[0m \u001b[0mp1s\u001b[0m\u001b[0;34m,\u001b[0m \u001b[0mp2s\u001b[0m \u001b[0;34m=\u001b[0m \u001b[0mself\u001b[0m\u001b[0;34m.\u001b[0m\u001b[0mgenerate_offspring\u001b[0m\u001b[0;34m(\u001b[0m\u001b[0mz\u001b[0m\u001b[0;34m,\u001b[0m \u001b[0mnext_generation\u001b[0m\u001b[0;34m,\u001b[0m \u001b[0mp1s\u001b[0m\u001b[0;34m,\u001b[0m \u001b[0mp2s\u001b[0m\u001b[0;34m,\u001b[0m \u001b[0mf_prime\u001b[0m\u001b[0;34m,\u001b[0m \u001b[0mf_primes\u001b[0m\u001b[0;34m,\u001b[0m \u001b[0mselected\u001b[0m\u001b[0;34m)\u001b[0m\u001b[0;34m\u001b[0m\u001b[0;34m\u001b[0m\u001b[0m\n\u001b[1;32m     61\u001b[0m         \u001b[0mself\u001b[0m\u001b[0;34m.\u001b[0m\u001b[0mp1_fitness\u001b[0m \u001b[0;34m=\u001b[0m \u001b[0mtorch\u001b[0m\u001b[0;34m.\u001b[0m\u001b[0mcat\u001b[0m\u001b[0;34m(\u001b[0m\u001b[0mp1s\u001b[0m\u001b[0;34m)\u001b[0m\u001b[0;34m\u001b[0m\u001b[0;34m\u001b[0m\u001b[0m\n",
      "\u001b[0;32m<ipython-input-17-87d92c48ff80>\u001b[0m in \u001b[0;36mgenerate_mutants\u001b[0;34m(self, z, next_generation, p1s, p2s, f_prime, f_primes, selected)\u001b[0m\n\u001b[1;32m     27\u001b[0m         \u001b[0mp2s\u001b[0m\u001b[0;34m.\u001b[0m\u001b[0mappend\u001b[0m\u001b[0;34m(\u001b[0m\u001b[0mf_prime\u001b[0m\u001b[0;34m[\u001b[0m\u001b[0mmutants\u001b[0m\u001b[0;34m]\u001b[0m\u001b[0;34m)\u001b[0m\u001b[0;34m\u001b[0m\u001b[0;34m\u001b[0m\u001b[0m\n\u001b[1;32m     28\u001b[0m         \u001b[0mmutants\u001b[0m \u001b[0;34m=\u001b[0m \u001b[0mz\u001b[0m\u001b[0;34m[\u001b[0m\u001b[0mmutants\u001b[0m\u001b[0;34m]\u001b[0m\u001b[0;34m\u001b[0m\u001b[0;34m\u001b[0m\u001b[0m\n\u001b[0;32m---> 29\u001b[0;31m         \u001b[0mmutants\u001b[0m \u001b[0;34m=\u001b[0m \u001b[0mmutants\u001b[0m \u001b[0;34m+\u001b[0m \u001b[0mself\u001b[0m\u001b[0;34m.\u001b[0m\u001b[0msigma\u001b[0m \u001b[0;34m*\u001b[0m \u001b[0mtorch\u001b[0m\u001b[0;34m.\u001b[0m\u001b[0mrandn\u001b[0m\u001b[0;34m(\u001b[0m\u001b[0mmutants\u001b[0m\u001b[0;34m.\u001b[0m\u001b[0mshape\u001b[0m\u001b[0;34m)\u001b[0m\u001b[0;34m.\u001b[0m\u001b[0mto\u001b[0m\u001b[0;34m(\u001b[0m\u001b[0mself\u001b[0m\u001b[0;34m.\u001b[0m\u001b[0mdevice\u001b[0m\u001b[0;34m)\u001b[0m\u001b[0;34m\u001b[0m\u001b[0;34m\u001b[0m\u001b[0m\n\u001b[0m\u001b[1;32m     30\u001b[0m         \u001b[0mnext_generation\u001b[0m \u001b[0;34m=\u001b[0m \u001b[0mtorch\u001b[0m\u001b[0;34m.\u001b[0m\u001b[0mcat\u001b[0m\u001b[0;34m(\u001b[0m\u001b[0mnext_generation\u001b[0m\u001b[0;34m+\u001b[0m\u001b[0;34m[\u001b[0m\u001b[0mmutants\u001b[0m\u001b[0;34m]\u001b[0m\u001b[0;34m,\u001b[0m \u001b[0mdim\u001b[0m\u001b[0;34m=\u001b[0m\u001b[0;36m0\u001b[0m\u001b[0;34m)\u001b[0m\u001b[0;34m\u001b[0m\u001b[0;34m\u001b[0m\u001b[0m\n\u001b[1;32m     31\u001b[0m         \u001b[0;32mreturn\u001b[0m \u001b[0mnext_generation\u001b[0m\u001b[0;34m,\u001b[0m \u001b[0mp1s\u001b[0m\u001b[0;34m,\u001b[0m \u001b[0mp2s\u001b[0m\u001b[0;34m\u001b[0m\u001b[0;34m\u001b[0m\u001b[0m\n",
      "\u001b[0;31mKeyboardInterrupt\u001b[0m: "
     ]
    }
   ],
   "source": [
    "from IPython.display import clear_output\n",
    "\n",
    "history = []\n",
    "vals = []\n",
    "\n",
    "for i in range(100000):\n",
    "    X_, y_ = next(gen)\n",
    "    fitnesses = get_fitnesses(X_, y_)\n",
    "    model = optim.update(model, fitnesses)\n",
    "    history.append(float(fitnesses.max()))\n",
    "    if i % 100 == 0:\n",
    "        val_fit = get_fitnesses(Xte, yte).max()\n",
    "        vals.append(val_fit)\n",
    "    if i % 1000 == 0:\n",
    "        clear_output()\n",
    "        plt.plot(vals)\n",
    "        plt.show()"
   ]
  },
  {
   "cell_type": "code",
   "execution_count": 0,
   "metadata": {
    "colab": {},
    "colab_type": "code",
    "id": "fRHTFrD1O8I1"
   },
   "outputs": [],
   "source": [
    "val_fit = get_fitnesses(Xte, yte).max()\n",
    "vals.append(val_fit)\n",
    "plt.plot(vals)\n",
    "plt.show()"
   ]
  },
  {
   "cell_type": "code",
   "execution_count": 0,
   "metadata": {
    "colab": {},
    "colab_type": "code",
    "id": "v1VH0l0BO8I6"
   },
   "outputs": [],
   "source": []
  }
 ],
 "metadata": {
  "accelerator": "GPU",
  "colab": {
   "collapsed_sections": [],
   "name": "evol2.ipynb",
   "provenance": [],
   "version": "0.3.2"
  },
  "kernelspec": {
   "display_name": "Python 3",
   "language": "python",
   "name": "python3"
  },
  "language_info": {
   "codemirror_mode": {
    "name": "ipython",
    "version": 3
   },
   "file_extension": ".py",
   "mimetype": "text/x-python",
   "name": "python",
   "nbconvert_exporter": "python",
   "pygments_lexer": "ipython3",
   "version": "3.6.6"
  }
 },
 "nbformat": 4,
 "nbformat_minor": 1
}
